{
 "cells": [
  {
   "cell_type": "markdown",
   "metadata": {},
   "source": [
    "En este Jupyter Notebook mostramos cómo procesamos los datos proporcionados por la API, utilizando la función `process_multiple_csvs` ubicada en `src/support.py`. Si necesitas más detalles, puedes consultar directamente la implementación de dicha función."
   ]
  },
  {
   "cell_type": "code",
   "execution_count": 2,
   "metadata": {},
   "outputs": [],
   "source": [
    "import sys\n",
    "sys.path.append(\"../\")\n",
    "from src import support as sp"
   ]
  },
  {
   "cell_type": "code",
   "execution_count": 5,
   "metadata": {},
   "outputs": [],
   "source": [
    "input_folder = \"../data/raw/\"\n",
    "output_folder = \"../data/coocked/csv\""
   ]
  },
  {
   "cell_type": "code",
   "execution_count": 7,
   "metadata": {},
   "outputs": [
    {
     "name": "stdout",
     "output_type": "stream",
     "text": [
      "Archivo procesado guardado en: ../data/coocked/csv\\data_bicicleta.csv\n",
      "Archivo procesado guardado en: ../data/coocked/csv\\data_cine_libros_musica.csv\n",
      "Error procesando 'price' en ../data/raw/data_coches.csv: malformed node or string: 10900\n",
      "Archivo procesado guardado en: ../data/coocked/csv\\data_coches.csv\n",
      "Archivo procesado guardado en: ../data/coocked/csv\\data_coleccionismo.csv\n",
      "Archivo procesado guardado en: ../data/coocked/csv\\data_construccion_reforma.csv\n",
      "Archivo procesado guardado en: ../data/coocked/csv\\data_deporte_ocio.csv\n",
      "Archivo procesado guardado en: ../data/coocked/csv\\data_electrodomesticos.csv\n",
      "Archivo procesado guardado en: ../data/coocked/csv\\data_hogar_jardin.csv\n",
      "Archivo procesado guardado en: ../data/coocked/csv\\data_industria_agricultura.csv\n",
      "Archivo procesado guardado en: ../data/coocked/csv\\data_inmobilaria.csv\n",
      "Archivo procesado guardado en: ../data/coocked/csv\\data_moda_accesorios.csv\n",
      "Archivo procesado guardado en: ../data/coocked/csv\\data_motos.csv\n",
      "Archivo procesado guardado en: ../data/coocked/csv\\data_niños_bebes.csv\n",
      "Archivo procesado guardado en: ../data/coocked/csv\\data_otros.csv\n",
      "Archivo procesado guardado en: ../data/coocked/csv\\data_servicios.csv\n",
      "Archivo procesado guardado en: ../data/coocked/csv\\data_tecnologia_electronica.csv\n"
     ]
    }
   ],
   "source": [
    "# Ejecutar el procesamiento\n",
    "sp.process_multiple_csvs(input_folder, output_folder)"
   ]
  },
  {
   "cell_type": "code",
   "execution_count": 12,
   "metadata": {},
   "outputs": [],
   "source": [
    "import os\n",
    "import pandas as pd\n",
    "import json\n",
    "\n",
    "def convert_csv_to_json(input_folder, output_folder):\n",
    "    \"\"\"\n",
    "    Convierte todos los archivos CSV en una carpeta a archivos JSON y los guarda en otra carpeta.\n",
    "    \n",
    "    Args:\n",
    "        input_folder (str): Ruta de la carpeta que contiene los archivos CSV.\n",
    "        output_folder (str): Ruta de la carpeta donde se guardarán los archivos JSON.\n",
    "    \"\"\"\n",
    "    # Asegúrate de que la carpeta de salida existe\n",
    "    os.makedirs(output_folder, exist_ok=True)\n",
    "\n",
    "    # Iterar sobre todos los archivos en la carpeta de entrada\n",
    "    for filename in os.listdir(input_folder):\n",
    "        # Comprobar si el archivo tiene extensión .csv\n",
    "        if filename.endswith(\".csv\"):\n",
    "            csv_path = os.path.join(input_folder, filename)\n",
    "            \n",
    "            # Leer el CSV\n",
    "            try:\n",
    "                df = pd.read_csv(csv_path)\n",
    "            except Exception as e:\n",
    "                print(f\"Error al leer {filename}: {e}\")\n",
    "                continue\n",
    "            \n",
    "            # Convertir a JSON\n",
    "            json_data = df.to_dict(orient=\"records\")\n",
    "            \n",
    "            # Nombre del archivo de salida\n",
    "            json_filename = os.path.splitext(filename)[0] + \".json\"\n",
    "            json_path = os.path.join(output_folder, json_filename)\n",
    "            \n",
    "            # Guardar como JSON\n",
    "            try:\n",
    "                with open(json_path, \"w\", encoding=\"utf-8\") as json_file:\n",
    "                    json.dump(json_data, json_file, indent=4, ensure_ascii=False)\n",
    "                print(f\"{filename} convertido a {json_filename}\")\n",
    "            except Exception as e:\n",
    "                print(f\"Error al guardar {json_filename}: {e}\")"
   ]
  },
  {
   "cell_type": "code",
   "execution_count": 13,
   "metadata": {},
   "outputs": [
    {
     "name": "stdout",
     "output_type": "stream",
     "text": [
      "data_bicicleta.csv convertido a data_bicicleta.json\n",
      "data_cine_libros_musica.csv convertido a data_cine_libros_musica.json\n",
      "data_coches.csv convertido a data_coches.json\n",
      "data_coleccionismo.csv convertido a data_coleccionismo.json\n",
      "data_construccion_reforma.csv convertido a data_construccion_reforma.json\n",
      "data_deporte_ocio.csv convertido a data_deporte_ocio.json\n",
      "data_electrodomesticos.csv convertido a data_electrodomesticos.json\n",
      "data_hogar_jardin.csv convertido a data_hogar_jardin.json\n",
      "data_industria_agricultura.csv convertido a data_industria_agricultura.json\n",
      "data_inmobilaria.csv convertido a data_inmobilaria.json\n",
      "data_moda_accesorios.csv convertido a data_moda_accesorios.json\n",
      "data_motos.csv convertido a data_motos.json\n",
      "data_niños_bebes.csv convertido a data_niños_bebes.json\n",
      "data_otros.csv convertido a data_otros.json\n",
      "data_servicios.csv convertido a data_servicios.json\n",
      "data_tecnologia_electronica.csv convertido a data_tecnologia_electronica.json\n"
     ]
    }
   ],
   "source": [
    "# Uso del script\n",
    "input_folder = \"../data/coocked/csv\"  # Cambia esto a la ruta de tu carpeta de entrada\n",
    "output_folder = \"../data/coocked/json\"  # Cambia esto a la ruta de tu carpeta de salida\n",
    "\n",
    "convert_csv_to_json(input_folder, output_folder)"
   ]
  }
 ],
 "metadata": {
  "kernelspec": {
   "display_name": "data",
   "language": "python",
   "name": "python3"
  },
  "language_info": {
   "codemirror_mode": {
    "name": "ipython",
    "version": 3
   },
   "file_extension": ".py",
   "mimetype": "text/x-python",
   "name": "python",
   "nbconvert_exporter": "python",
   "pygments_lexer": "ipython3",
   "version": "3.8.0"
  }
 },
 "nbformat": 4,
 "nbformat_minor": 2
}
