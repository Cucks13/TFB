{
 "cells": [
  {
   "cell_type": "markdown",
   "metadata": {},
   "source": [
    "En este Jupyter Notebook se detalla el proceso de carga de datos en una base de datos no relacional (**MongoDB**) tras su extracción desde la API. Este proceso asegura un almacenamiento eficiente y estructurado, facilitando consultas y análisis posteriores. \n",
    "\n",
    "Para más información sobre las funciones empleadas en este paso, revisa el archivo correspondiente en `src/database.py`."
   ]
  },
  {
   "cell_type": "code",
   "execution_count": 2,
   "metadata": {},
   "outputs": [],
   "source": [
    "import sys\n",
    "sys.path.append(\"../\")\n",
    "from src import support as sp"
   ]
  },
  {
   "cell_type": "code",
   "execution_count": 3,
   "metadata": {},
   "outputs": [
    {
     "name": "stdout",
     "output_type": "stream",
     "text": [
      "Insertados 40 documentos en la colección 'data_bicicleta'\n",
      "Insertados 40 documentos en la colección 'data_cine_libros_musica'\n",
      "Insertados 40 documentos en la colección 'data_coleccionismo'\n",
      "Insertados 40 documentos en la colección 'data_construccion_reforma'\n",
      "Insertados 40 documentos en la colección 'data_deporte_ocio'\n",
      "Insertados 40 documentos en la colección 'data_electrodomesticos'\n",
      "Insertados 40 documentos en la colección 'data_hogar_jardin'\n",
      "Insertados 40 documentos en la colección 'data_industria_agricultura'\n",
      "Insertados 40 documentos en la colección 'data_inmobilaria'\n",
      "Insertados 40 documentos en la colección 'data_moda_accesorios'\n",
      "Insertados 40 documentos en la colección 'data_motos'\n",
      "Insertados 40 documentos en la colección 'data_niños_bebes'\n",
      "Insertados 40 documentos en la colección 'data_otros'\n",
      "Insertados 40 documentos en la colección 'data_servicios'\n",
      "Insertados 40 documentos en la colección 'data_tecnologia_electronica'\n",
      "Inserción completada.\n"
     ]
    }
   ],
   "source": [
    "sp.insert_json_folder_to_mongo(\"../data/coocked/json/scoring/\")"
   ]
  }
 ],
 "metadata": {
  "kernelspec": {
   "display_name": "data",
   "language": "python",
   "name": "python3"
  },
  "language_info": {
   "codemirror_mode": {
    "name": "ipython",
    "version": 3
   },
   "file_extension": ".py",
   "mimetype": "text/x-python",
   "name": "python",
   "nbconvert_exporter": "python",
   "pygments_lexer": "ipython3",
   "version": "3.8.0"
  }
 },
 "nbformat": 4,
 "nbformat_minor": 2
}
