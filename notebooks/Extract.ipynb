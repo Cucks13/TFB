{
 "cells": [
  {
   "cell_type": "markdown",
   "metadata": {},
   "source": [
    "En este Jupyter Notebook se detalla el proceso de extracción de datos desde la API, asegurando una recopilación eficiente y estructurada. Para más información sobre las funciones empleadas en este paso, revisa el archivo correspondiente en `src/support.py`, concretamente la funcion `traer_data`."
   ]
  },
  {
   "cell_type": "code",
   "execution_count": 2,
   "metadata": {},
   "outputs": [],
   "source": [
    "import sys\n",
    "sys.path.append(\"../\")\n",
    "from src import support as sp"
   ]
  },
  {
   "cell_type": "markdown",
   "metadata": {},
   "source": [
    "## Categorias\n",
    "### Coches"
   ]
  },
  {
   "cell_type": "code",
   "execution_count": 11,
   "metadata": {},
   "outputs": [
    {
     "name": "stdout",
     "output_type": "stream",
     "text": [
      "Datos guardados en wallapop_data.csv\n"
     ]
    }
   ],
   "source": [
    "sp.traer_data(\"data_coches\", \"https://es.wallapop.com/app/search?category_ids=100&latitude=40.41956&longitude=-3.69196&filters_source=side_bar_filters\")"
   ]
  },
  {
   "cell_type": "markdown",
   "metadata": {},
   "source": [
    "### Motos"
   ]
  },
  {
   "cell_type": "code",
   "execution_count": 12,
   "metadata": {},
   "outputs": [
    {
     "name": "stdout",
     "output_type": "stream",
     "text": [
      "Datos guardados en data_motos.csv\n"
     ]
    }
   ],
   "source": [
    "sp.traer_data(\"data_motos\", \"https://es.wallapop.com/app/search?category_ids=14000&latitude=40.41956&longitude=-3.69196&filters_source=side_bar_filters\")"
   ]
  },
  {
   "cell_type": "markdown",
   "metadata": {},
   "source": [
    "### Moda y accesorios"
   ]
  },
  {
   "cell_type": "code",
   "execution_count": 13,
   "metadata": {},
   "outputs": [
    {
     "name": "stdout",
     "output_type": "stream",
     "text": [
      "Datos guardados en data_moda_accesorios.csv\n"
     ]
    }
   ],
   "source": [
    "sp.traer_data(\"data_moda_accesorios\", \"https://es.wallapop.com/app/search?category_ids=12465&latitude=40.41956&longitude=-3.69196&filters_source=side_bar_filters\")"
   ]
  },
  {
   "cell_type": "markdown",
   "metadata": {},
   "source": [
    "### Inmobilaria"
   ]
  },
  {
   "cell_type": "code",
   "execution_count": 4,
   "metadata": {},
   "outputs": [
    {
     "name": "stdout",
     "output_type": "stream",
     "text": [
      "Datos guardados en data_inmobilaria.csv\n"
     ]
    }
   ],
   "source": [
    "sp.traer_data(\"data_inmobilaria\", \"https://es.wallapop.com/app/search?category_ids=200&latitude=40.41956&longitude=-3.69196&filters_source=side_bar_filters\")"
   ]
  },
  {
   "cell_type": "markdown",
   "metadata": {},
   "source": [
    "### Tecnología y Electrónica"
   ]
  },
  {
   "cell_type": "code",
   "execution_count": 5,
   "metadata": {},
   "outputs": [
    {
     "name": "stdout",
     "output_type": "stream",
     "text": [
      "Datos guardados en data_tecnologia_electronica.csv\n"
     ]
    }
   ],
   "source": [
    "sp.traer_data(\"data_tecnologia_electronica\", \"https://es.wallapop.com/app/search?category_ids=24200&latitude=40.41956&longitude=-3.69196&filters_source=side_bar_filters\")"
   ]
  },
  {
   "cell_type": "markdown",
   "metadata": {},
   "source": [
    "### Deporte y Ocio"
   ]
  },
  {
   "cell_type": "code",
   "execution_count": 6,
   "metadata": {},
   "outputs": [
    {
     "name": "stdout",
     "output_type": "stream",
     "text": [
      "Datos guardados en data_deporte_ocio.csv\n"
     ]
    }
   ],
   "source": [
    "sp.traer_data(\"data_deporte_ocio\", \"https://es.wallapop.com/app/search?category_ids=12579&latitude=40.41956&longitude=-3.69196&filters_source=side_bar_filters\")"
   ]
  },
  {
   "cell_type": "markdown",
   "metadata": {},
   "source": [
    "### Bicicleta"
   ]
  },
  {
   "cell_type": "code",
   "execution_count": 7,
   "metadata": {},
   "outputs": [
    {
     "name": "stdout",
     "output_type": "stream",
     "text": [
      "Datos guardados en data_bicicleta.csv\n"
     ]
    }
   ],
   "source": [
    "sp.traer_data(\"data_bicibleta\", \"https://es.wallapop.com/app/search?category_ids=17000&latitude=40.41956&longitude=-3.69196&filters_source=side_bar_filters\")"
   ]
  },
  {
   "cell_type": "markdown",
   "metadata": {},
   "source": [
    "### Hogar y Jardín"
   ]
  },
  {
   "cell_type": "code",
   "execution_count": 8,
   "metadata": {},
   "outputs": [
    {
     "name": "stdout",
     "output_type": "stream",
     "text": [
      "Datos guardados en data_hogar_jardin.csv\n"
     ]
    }
   ],
   "source": [
    "sp.traer_data(\"data_hogar_jardin\", \"https://es.wallapop.com/app/search?category_ids=12467&latitude=40.41956&longitude=-3.69196&filters_source=side_bar_filters\")"
   ]
  },
  {
   "cell_type": "markdown",
   "metadata": {},
   "source": [
    "### Electrodomésticos"
   ]
  },
  {
   "cell_type": "code",
   "execution_count": 9,
   "metadata": {},
   "outputs": [
    {
     "name": "stdout",
     "output_type": "stream",
     "text": [
      "Datos guardados en data_electrodomesticos.csv\n"
     ]
    }
   ],
   "source": [
    "sp.traer_data(\"data_electrodomesticos\", \"https://es.wallapop.com/app/search?category_ids=12467&latitude=40.41956&longitude=-3.69196&filters_source=side_bar_filters\")"
   ]
  },
  {
   "cell_type": "markdown",
   "metadata": {},
   "source": [
    "### Cine, Libros y Música"
   ]
  },
  {
   "cell_type": "code",
   "execution_count": 10,
   "metadata": {},
   "outputs": [
    {
     "name": "stdout",
     "output_type": "stream",
     "text": [
      "Datos guardados en data_cine_libros_musica.csv\n"
     ]
    }
   ],
   "source": [
    "sp.traer_data(\"data_cine_libros_musica\", \"https://es.wallapop.com/app/search?category_ids=12463&latitude=40.41956&longitude=-3.69196&filters_source=side_bar_filters\")"
   ]
  },
  {
   "cell_type": "markdown",
   "metadata": {},
   "source": [
    "### Niños y bebés"
   ]
  },
  {
   "cell_type": "code",
   "execution_count": 11,
   "metadata": {},
   "outputs": [
    {
     "name": "stdout",
     "output_type": "stream",
     "text": [
      "Datos guardados en data_niños_bebes.csv\n"
     ]
    }
   ],
   "source": [
    "sp.traer_data(\"data_nilos_bebes\", \"https://es.wallapop.com/app/search?category_ids=12461&latitude=40.41956&longitude=-3.69196&filters_source=side_bar_filters\")"
   ]
  },
  {
   "cell_type": "markdown",
   "metadata": {},
   "source": [
    "### Coleccionismo"
   ]
  },
  {
   "cell_type": "code",
   "execution_count": 12,
   "metadata": {},
   "outputs": [
    {
     "name": "stdout",
     "output_type": "stream",
     "text": [
      "Datos guardados en data_coleccionismo.csv\n"
     ]
    }
   ],
   "source": [
    "sp.traer_data(\"data_coleccionismo\", \"https://es.wallapop.com/app/search?category_ids=18000&latitude=40.41956&longitude=-3.69196&filters_source=side_bar_filters\")"
   ]
  },
  {
   "cell_type": "markdown",
   "metadata": {},
   "source": [
    "### Construcción y Reforma"
   ]
  },
  {
   "cell_type": "code",
   "execution_count": 13,
   "metadata": {},
   "outputs": [
    {
     "name": "stdout",
     "output_type": "stream",
     "text": [
      "Datos guardados en data_construccion_reforma.csv\n"
     ]
    }
   ],
   "source": [
    "sp.traer_data(\"data_construccion_reforma\", \"https://es.wallapop.com/app/search?category_ids=19000&latitude=40.41956&longitude=-3.69196&filters_source=side_bar_filters\")"
   ]
  },
  {
   "cell_type": "markdown",
   "metadata": {},
   "source": [
    "### Industria y Agricultura"
   ]
  },
  {
   "cell_type": "code",
   "execution_count": 14,
   "metadata": {},
   "outputs": [
    {
     "name": "stdout",
     "output_type": "stream",
     "text": [
      "Datos guardados en data_industria_agricultura.csv\n"
     ]
    }
   ],
   "source": [
    "sp.traer_data(\"data_industria_agricultura\", \"https://es.wallapop.com/app/search?category_ids=20000&latitude=40.41956&longitude=-3.69196&filters_source=side_bar_filters\")"
   ]
  },
  {
   "cell_type": "markdown",
   "metadata": {},
   "source": [
    "### Servicios"
   ]
  },
  {
   "cell_type": "code",
   "execution_count": 15,
   "metadata": {},
   "outputs": [
    {
     "name": "stdout",
     "output_type": "stream",
     "text": [
      "Datos guardados en data_servicios.csv\n"
     ]
    }
   ],
   "source": [
    "sp.traer_data(\"data_servicios\", \"https://es.wallapop.com/app/search?category_ids=13200&latitude=40.41956&longitude=-3.69196&filters_source=side_bar_filters\")"
   ]
  },
  {
   "cell_type": "markdown",
   "metadata": {},
   "source": [
    "### Otros"
   ]
  },
  {
   "cell_type": "code",
   "execution_count": 16,
   "metadata": {},
   "outputs": [
    {
     "name": "stdout",
     "output_type": "stream",
     "text": [
      "Datos guardados en data_otros.csv\n"
     ]
    }
   ],
   "source": [
    "sp.traer_data(\"data_otros\", \"https://es.wallapop.com/app/search?category_ids=12485&latitude=40.41956&longitude=-3.69196&filters_source=side_bar_filters\")"
   ]
  }
 ],
 "metadata": {
  "kernelspec": {
   "display_name": "data",
   "language": "python",
   "name": "python3"
  },
  "language_info": {
   "codemirror_mode": {
    "name": "ipython",
    "version": 3
   },
   "file_extension": ".py",
   "mimetype": "text/x-python",
   "name": "python",
   "nbconvert_exporter": "python",
   "pygments_lexer": "ipython3",
   "version": "3.8.0"
  }
 },
 "nbformat": 4,
 "nbformat_minor": 2
}
